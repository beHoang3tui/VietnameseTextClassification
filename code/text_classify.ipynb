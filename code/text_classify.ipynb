{
 "cells": [
  {
   "cell_type": "code",
   "execution_count": 44,
   "metadata": {},
   "outputs": [],
   "source": [
    "# %load_ext autoreload\n",
    "# %autoreload 2\n",
    "\n",
    "import torch\n",
    "import torch.nn as nn\n",
    "import numpy as np\n",
    "from tqdm import tqdm\n",
    "from sklearn.model_selection import train_test_split\n",
    "from sklearn.metrics import mean_squared_error\n",
    "from torch.utils.data import Dataset, DataLoader\n",
    "import torch.nn.functional as F\n",
    "from torch.optim import lr_scheduler\n",
    "import pandas as pd\n",
    "import os\n",
    "import matplotlib.pyplot as plt\n",
    "from tqdm import tqdm\n",
    "from sklearn.metrics import confusion_matrix\n",
    "from sklearn.metrics import f1_score\n",
    "# from custom_model import LSTM_fixed_len\n",
    "from custom_model import AttentionModel\n",
    "\n",
    "from custom_dataset import customDataset\n",
    "from sklearn.utils import class_weight\n",
    "from pyvi import ViTokenizer\n",
    "from sklearn.metrics import confusion_matrix,classification_report\n",
    "from collections import Counter\n",
    "from sklearn.utils import resample,shuffle\n",
    "from torchviz import make_dot, make_dot_from_trace\n",
    "\n",
    "from utils import load_checkpoint"
   ]
  },
  {
   "cell_type": "code",
   "execution_count": 45,
   "metadata": {},
   "outputs": [],
   "source": [
    "from torch.utils.tensorboard import SummaryWriter\n",
    "writer = SummaryWriter()"
   ]
  },
  {
   "cell_type": "markdown",
   "metadata": {},
   "source": [
    "# Load data"
   ]
  },
  {
   "cell_type": "code",
   "execution_count": 46,
   "metadata": {},
   "outputs": [],
   "source": [
    "data_path = '../data'\n",
    "model_path = '../model'"
   ]
  },
  {
   "cell_type": "code",
   "execution_count": 47,
   "metadata": {},
   "outputs": [],
   "source": [
    "df_ = pd.read_csv(os.path.join(data_path,'label.csv'))"
   ]
  },
  {
   "cell_type": "code",
   "execution_count": 48,
   "metadata": {},
   "outputs": [
    {
     "data": {
      "text/html": [
       "<div>\n",
       "<style scoped>\n",
       "    .dataframe tbody tr th:only-of-type {\n",
       "        vertical-align: middle;\n",
       "    }\n",
       "\n",
       "    .dataframe tbody tr th {\n",
       "        vertical-align: top;\n",
       "    }\n",
       "\n",
       "    .dataframe thead th {\n",
       "        text-align: right;\n",
       "    }\n",
       "</style>\n",
       "<table border=\"1\" class=\"dataframe\">\n",
       "  <thead>\n",
       "    <tr style=\"text-align: right;\">\n",
       "      <th></th>\n",
       "      <th>Label</th>\n",
       "      <th>message_user</th>\n",
       "    </tr>\n",
       "  </thead>\n",
       "  <tbody>\n",
       "    <tr>\n",
       "      <th>0</th>\n",
       "      <td>0</td>\n",
       "      <td>Bạn ưiii</td>\n",
       "    </tr>\n",
       "    <tr>\n",
       "      <th>1</th>\n",
       "      <td>0</td>\n",
       "      <td>Cho mk xin sdt thầy đức đc ko ạ</td>\n",
       "    </tr>\n",
       "    <tr>\n",
       "      <th>2</th>\n",
       "      <td>2</td>\n",
       "      <td>Email cx đc hic</td>\n",
       "    </tr>\n",
       "    <tr>\n",
       "      <th>3</th>\n",
       "      <td>0</td>\n",
       "      <td>hello</td>\n",
       "    </tr>\n",
       "    <tr>\n",
       "      <th>4</th>\n",
       "      <td>5</td>\n",
       "      <td>Cho e hỏi</td>\n",
       "    </tr>\n",
       "    <tr>\n",
       "      <th>...</th>\n",
       "      <td>...</td>\n",
       "      <td>...</td>\n",
       "    </tr>\n",
       "    <tr>\n",
       "      <th>4179</th>\n",
       "      <td>0</td>\n",
       "      <td>nên e cũng đang xem mk hợp vs cái j</td>\n",
       "    </tr>\n",
       "    <tr>\n",
       "      <th>4180</th>\n",
       "      <td>0</td>\n",
       "      <td>vâng. mong là như z</td>\n",
       "    </tr>\n",
       "    <tr>\n",
       "      <th>4181</th>\n",
       "      <td>6</td>\n",
       "      <td>vâng. e cảm ơn ạ</td>\n",
       "    </tr>\n",
       "    <tr>\n",
       "      <th>4182</th>\n",
       "      <td>1</td>\n",
       "      <td>mrhd tổ chức sự kiện rất mong được xin hình ản...</td>\n",
       "    </tr>\n",
       "    <tr>\n",
       "      <th>4183</th>\n",
       "      <td>1</td>\n",
       "      <td>😊 cảm ơn các thầy nhiều a !</td>\n",
       "    </tr>\n",
       "  </tbody>\n",
       "</table>\n",
       "<p>4184 rows × 2 columns</p>\n",
       "</div>"
      ],
      "text/plain": [
       "      Label                                       message_user\n",
       "0         0                                           Bạn ưiii\n",
       "1         0                    Cho mk xin sdt thầy đức đc ko ạ\n",
       "2         2                                    Email cx đc hic\n",
       "3         0                                              hello\n",
       "4         5                                          Cho e hỏi\n",
       "...     ...                                                ...\n",
       "4179      0                nên e cũng đang xem mk hợp vs cái j\n",
       "4180      0                                vâng. mong là như z\n",
       "4181      6                                   vâng. e cảm ơn ạ\n",
       "4182      1  mrhd tổ chức sự kiện rất mong được xin hình ản...\n",
       "4183      1                        😊 cảm ơn các thầy nhiều a !\n",
       "\n",
       "[4184 rows x 2 columns]"
      ]
     },
     "execution_count": 48,
     "metadata": {},
     "output_type": "execute_result"
    }
   ],
   "source": [
    "df_"
   ]
  },
  {
   "cell_type": "code",
   "execution_count": 49,
   "metadata": {},
   "outputs": [
    {
     "name": "stderr",
     "output_type": "stream",
     "text": [
      "/tmp/ipykernel_30708/2757092553.py:2: SettingWithCopyWarning: \n",
      "A value is trying to be set on a copy of a slice from a DataFrame.\n",
      "Try using .loc[row_indexer,col_indexer] = value instead\n",
      "\n",
      "See the caveats in the documentation: https://pandas.pydata.org/pandas-docs/stable/user_guide/indexing.html#returning-a-view-versus-a-copy\n",
      "  question['Label'] = [item-1 for item in list(question['Label'])]\n"
     ]
    },
    {
     "data": {
      "text/html": [
       "<div>\n",
       "<style scoped>\n",
       "    .dataframe tbody tr th:only-of-type {\n",
       "        vertical-align: middle;\n",
       "    }\n",
       "\n",
       "    .dataframe tbody tr th {\n",
       "        vertical-align: top;\n",
       "    }\n",
       "\n",
       "    .dataframe thead th {\n",
       "        text-align: right;\n",
       "    }\n",
       "</style>\n",
       "<table border=\"1\" class=\"dataframe\">\n",
       "  <thead>\n",
       "    <tr style=\"text-align: right;\">\n",
       "      <th></th>\n",
       "      <th>Label</th>\n",
       "      <th>message_user</th>\n",
       "    </tr>\n",
       "  </thead>\n",
       "  <tbody>\n",
       "    <tr>\n",
       "      <th>2</th>\n",
       "      <td>1</td>\n",
       "      <td>Email cx đc hic</td>\n",
       "    </tr>\n",
       "    <tr>\n",
       "      <th>4</th>\n",
       "      <td>4</td>\n",
       "      <td>Cho e hỏi</td>\n",
       "    </tr>\n",
       "    <tr>\n",
       "      <th>5</th>\n",
       "      <td>2</td>\n",
       "      <td>Chưa đc txuc nhiều với mt có học dc htttql k ạ</td>\n",
       "    </tr>\n",
       "    <tr>\n",
       "      <th>7</th>\n",
       "      <td>4</td>\n",
       "      <td>ad cho em hỏi chút về ngành của mình với ạ</td>\n",
       "    </tr>\n",
       "    <tr>\n",
       "      <th>8</th>\n",
       "      <td>4</td>\n",
       "      <td>Em muốn hỏi ngành của mình học thì có những mô...</td>\n",
       "    </tr>\n",
       "    <tr>\n",
       "      <th>...</th>\n",
       "      <td>...</td>\n",
       "      <td>...</td>\n",
       "    </tr>\n",
       "    <tr>\n",
       "      <th>4173</th>\n",
       "      <td>0</td>\n",
       "      <td>vâng.hjhj</td>\n",
       "    </tr>\n",
       "    <tr>\n",
       "      <th>4174</th>\n",
       "      <td>5</td>\n",
       "      <td>ths ạ.</td>\n",
       "    </tr>\n",
       "    <tr>\n",
       "      <th>4181</th>\n",
       "      <td>5</td>\n",
       "      <td>vâng. e cảm ơn ạ</td>\n",
       "    </tr>\n",
       "    <tr>\n",
       "      <th>4182</th>\n",
       "      <td>0</td>\n",
       "      <td>mrhd tổ chức sự kiện rất mong được xin hình ản...</td>\n",
       "    </tr>\n",
       "    <tr>\n",
       "      <th>4183</th>\n",
       "      <td>0</td>\n",
       "      <td>😊 cảm ơn các thầy nhiều a !</td>\n",
       "    </tr>\n",
       "  </tbody>\n",
       "</table>\n",
       "<p>2351 rows × 2 columns</p>\n",
       "</div>"
      ],
      "text/plain": [
       "      Label                                       message_user\n",
       "2         1                                    Email cx đc hic\n",
       "4         4                                          Cho e hỏi\n",
       "5         2     Chưa đc txuc nhiều với mt có học dc htttql k ạ\n",
       "7         4         ad cho em hỏi chút về ngành của mình với ạ\n",
       "8         4  Em muốn hỏi ngành của mình học thì có những mô...\n",
       "...     ...                                                ...\n",
       "4173      0                                          vâng.hjhj\n",
       "4174      5                                             ths ạ.\n",
       "4181      5                                   vâng. e cảm ơn ạ\n",
       "4182      0  mrhd tổ chức sự kiện rất mong được xin hình ản...\n",
       "4183      0                        😊 cảm ơn các thầy nhiều a !\n",
       "\n",
       "[2351 rows x 2 columns]"
      ]
     },
     "execution_count": 49,
     "metadata": {},
     "output_type": "execute_result"
    }
   ],
   "source": [
    "question = df_[df_['Label']!=0]\n",
    "question['Label'] = [item-1 for item in list(question['Label'])]\n",
    "question"
   ]
  },
  {
   "cell_type": "code",
   "execution_count": 50,
   "metadata": {},
   "outputs": [],
   "source": [
    "# def upsample(df,target_num):\n",
    "class_0 = question[question['Label']==0]\n",
    "class_0_upsampled = resample(class_0,random_state=42,n_samples=250-len(class_0),replace=True)\n",
    "question_upsampled = pd.concat([question, class_0_upsampled])"
   ]
  },
  {
   "cell_type": "code",
   "execution_count": 51,
   "metadata": {},
   "outputs": [
    {
     "data": {
      "text/plain": [
       "242"
      ]
     },
     "execution_count": 51,
     "metadata": {},
     "output_type": "execute_result"
    }
   ],
   "source": [
    "len(class_0)"
   ]
  },
  {
   "cell_type": "code",
   "execution_count": 52,
   "metadata": {},
   "outputs": [
    {
     "data": {
      "text/plain": [
       "4    1234\n",
       "5     430\n",
       "2     259\n",
       "0     250\n",
       "1     121\n",
       "3      64\n",
       "6       1\n",
       "Name: Label, dtype: int64"
      ]
     },
     "execution_count": 52,
     "metadata": {},
     "output_type": "execute_result"
    }
   ],
   "source": [
    "question_upsampled['Label'].value_counts()"
   ]
  },
  {
   "cell_type": "code",
   "execution_count": 53,
   "metadata": {},
   "outputs": [],
   "source": [
    "question  = question_upsampled"
   ]
  },
  {
   "cell_type": "code",
   "execution_count": 54,
   "metadata": {},
   "outputs": [],
   "source": [
    "question['length'] = [len(item) for item in list(question['message_user'])]\n",
    "question['num_word'] = [len(item.split(' ')) for item in list(question['message_user'])]"
   ]
  },
  {
   "cell_type": "code",
   "execution_count": 55,
   "metadata": {},
   "outputs": [
    {
     "data": {
      "text/plain": [
       "13.307757524374734"
      ]
     },
     "execution_count": 55,
     "metadata": {},
     "output_type": "execute_result"
    }
   ],
   "source": [
    "np.mean(question['num_word'])"
   ]
  },
  {
   "cell_type": "code",
   "execution_count": 56,
   "metadata": {},
   "outputs": [
    {
     "data": {
      "text/plain": [
       "(array([1.587e+03, 5.830e+02, 1.330e+02, 2.500e+01, 1.800e+01, 6.000e+00,\n",
       "        3.000e+00, 1.000e+00, 1.000e+00, 2.000e+00]),\n",
       " array([  1. ,  14.6,  28.2,  41.8,  55.4,  69. ,  82.6,  96.2, 109.8,\n",
       "        123.4, 137. ]),\n",
       " <BarContainer object of 10 artists>)"
      ]
     },
     "execution_count": 56,
     "metadata": {},
     "output_type": "execute_result"
    },
    {
     "data": {
      "image/png": "[encoded data removed]",
      "text/plain": [
       "<Figure size 640x480 with 1 Axes>"
      ]
     },
     "metadata": {},
     "output_type": "display_data"
    }
   ],
   "source": [
    "plt.hist(list(question['num_word']), bins = 10)"
   ]
  },
  {
   "cell_type": "code",
   "execution_count": 57,
   "metadata": {},
   "outputs": [],
   "source": [
    "def tokenize(text):\n",
    "    list_token = ViTokenizer.tokenize(text)\n",
    "    return list_token.split(' ')"
   ]
  },
  {
   "cell_type": "code",
   "execution_count": 58,
   "metadata": {
    "scrolled": true
   },
   "outputs": [],
   "source": [
    "counts = Counter()\n",
    "for index, row in question.iterrows():\n",
    "    counts.update(tokenize(row['message_user']))"
   ]
  },
  {
   "cell_type": "code",
   "execution_count": 59,
   "metadata": {},
   "outputs": [
    {
     "name": "stdout",
     "output_type": "stream",
     "text": [
      "num_words before: 2707\n",
      "num_words after: 1308\n"
     ]
    }
   ],
   "source": [
    "#deleting infrequent words\n",
    "print(\"num_words before:\",len(counts.keys()))\n",
    "for word in list(counts):\n",
    "    if counts[word] < 2:\n",
    "        del counts[word]\n",
    "print(\"num_words after:\",len(counts.keys()))"
   ]
  },
  {
   "cell_type": "code",
   "execution_count": 60,
   "metadata": {},
   "outputs": [],
   "source": [
    "vocab2index = {\"\":0, \"UNK\":1}\n",
    "words = [\"\", \"UNK\"]\n",
    "for word in counts:\n",
    "    vocab2index[word] = len(words)\n",
    "    words.append(word)"
   ]
  },
  {
   "cell_type": "code",
   "execution_count": 61,
   "metadata": {},
   "outputs": [],
   "source": [
    "def encode_sentence(text, vocab2index, N=75):\n",
    "    tokenized = tokenize(text)\n",
    "    encoded = np.zeros(N, dtype=int)\n",
    "    enc1 = np.array([vocab2index.get(word, vocab2index[\"UNK\"]) for word in tokenized])\n",
    "#     print(len(enc1))\n",
    "    length = min(N, len(enc1))\n",
    "    encoded[:length] = enc1[:length]\n",
    "#     print(len(encoded))\n",
    "    return [encoded]\n",
    "#     return encoded, length"
   ]
  },
  {
   "cell_type": "code",
   "execution_count": 62,
   "metadata": {},
   "outputs": [
    {
     "data": {
      "text/html": [
       "<div>\n",
       "<style scoped>\n",
       "    .dataframe tbody tr th:only-of-type {\n",
       "        vertical-align: middle;\n",
       "    }\n",
       "\n",
       "    .dataframe tbody tr th {\n",
       "        vertical-align: top;\n",
       "    }\n",
       "\n",
       "    .dataframe thead th {\n",
       "        text-align: right;\n",
       "    }\n",
       "</style>\n",
       "<table border=\"1\" class=\"dataframe\">\n",
       "  <thead>\n",
       "    <tr style=\"text-align: right;\">\n",
       "      <th></th>\n",
       "      <th>Label</th>\n",
       "      <th>message_user</th>\n",
       "      <th>length</th>\n",
       "      <th>num_word</th>\n",
       "      <th>encoded</th>\n",
       "    </tr>\n",
       "  </thead>\n",
       "  <tbody>\n",
       "    <tr>\n",
       "      <th>2</th>\n",
       "      <td>1</td>\n",
       "      <td>Email cx đc hic</td>\n",
       "      <td>15</td>\n",
       "      <td>4</td>\n",
       "      <td>[[1, 2, 3, 4, 0, 0, 0, 0, 0, 0, 0, 0, 0, 0, 0]]</td>\n",
       "    </tr>\n",
       "    <tr>\n",
       "      <th>4</th>\n",
       "      <td>4</td>\n",
       "      <td>Cho e hỏi</td>\n",
       "      <td>9</td>\n",
       "      <td>3</td>\n",
       "      <td>[[5, 6, 7, 0, 0, 0, 0, 0, 0, 0, 0, 0, 0, 0, 0]]</td>\n",
       "    </tr>\n",
       "    <tr>\n",
       "      <th>5</th>\n",
       "      <td>2</td>\n",
       "      <td>Chưa đc txuc nhiều với mt có học dc htttql k ạ</td>\n",
       "      <td>46</td>\n",
       "      <td>12</td>\n",
       "      <td>[[1, 3, 1, 8, 9, 10, 11, 12, 13, 14, 15, 0, 0,...</td>\n",
       "    </tr>\n",
       "    <tr>\n",
       "      <th>7</th>\n",
       "      <td>4</td>\n",
       "      <td>ad cho em hỏi chút về ngành của mình với ạ</td>\n",
       "      <td>42</td>\n",
       "      <td>11</td>\n",
       "      <td>[[16, 17, 18, 7, 19, 20, 21, 22, 23, 9, 15, 0,...</td>\n",
       "    </tr>\n",
       "    <tr>\n",
       "      <th>8</th>\n",
       "      <td>4</td>\n",
       "      <td>Em muốn hỏi ngành của mình học thì có những mô...</td>\n",
       "      <td>84</td>\n",
       "      <td>21</td>\n",
       "      <td>[[24, 25, 7, 21, 22, 23, 26, 27, 28, 29, 30, 3...</td>\n",
       "    </tr>\n",
       "  </tbody>\n",
       "</table>\n",
       "</div>"
      ],
      "text/plain": [
       "   Label                                       message_user  length  num_word  \\\n",
       "2      1                                    Email cx đc hic      15         4   \n",
       "4      4                                          Cho e hỏi       9         3   \n",
       "5      2     Chưa đc txuc nhiều với mt có học dc htttql k ạ      46        12   \n",
       "7      4         ad cho em hỏi chút về ngành của mình với ạ      42        11   \n",
       "8      4  Em muốn hỏi ngành của mình học thì có những mô...      84        21   \n",
       "\n",
       "                                             encoded  \n",
       "2    [[1, 2, 3, 4, 0, 0, 0, 0, 0, 0, 0, 0, 0, 0, 0]]  \n",
       "4    [[5, 6, 7, 0, 0, 0, 0, 0, 0, 0, 0, 0, 0, 0, 0]]  \n",
       "5  [[1, 3, 1, 8, 9, 10, 11, 12, 13, 14, 15, 0, 0,...  \n",
       "7  [[16, 17, 18, 7, 19, 20, 21, 22, 23, 9, 15, 0,...  \n",
       "8  [[24, 25, 7, 21, 22, 23, 26, 27, 28, 29, 30, 3...  "
      ]
     },
     "execution_count": 62,
     "metadata": {},
     "output_type": "execute_result"
    }
   ],
   "source": [
    "N = 15\n",
    "question['encoded'] = question['message_user'].apply(lambda x: np.array(encode_sentence(x,vocab2index,N)))\n",
    "question.head()"
   ]
  },
  {
   "cell_type": "code",
   "execution_count": 63,
   "metadata": {},
   "outputs": [],
   "source": [
    "X = list(question['encoded'])\n",
    "y = list(question['Label'])\n",
    "\n",
    "X_train, X_valid, y_train, y_valid = train_test_split(X, y, test_size=0.2,random_state=42)"
   ]
  },
  {
   "cell_type": "code",
   "execution_count": 64,
   "metadata": {},
   "outputs": [
    {
     "data": {
      "text/plain": [
       "(1887, 472)"
      ]
     },
     "execution_count": 64,
     "metadata": {},
     "output_type": "execute_result"
    }
   ],
   "source": [
    "len(X_train),len(X_valid)"
   ]
  },
  {
   "cell_type": "code",
   "execution_count": 65,
   "metadata": {},
   "outputs": [],
   "source": [
    "from sklearn.utils.class_weight import compute_class_weight\n"
   ]
  },
  {
   "cell_type": "code",
   "execution_count": 66,
   "metadata": {
    "scrolled": true
   },
   "outputs": [
    {
     "data": {
      "text/plain": [
       "tensor([  1.3345,   2.5673,   1.3684,   5.2857,   0.2731,   0.7836, 269.5714])"
      ]
     },
     "execution_count": 66,
     "metadata": {},
     "output_type": "execute_result"
    }
   ],
   "source": [
    "# class_weights = class_weight.compute_class_weight('balanced',np.unique(y).tolist(),y)\n",
    "class_weights = compute_class_weight(class_weight = \"balanced\", classes= np.unique(y_train), y= y_train)\n",
    "class_weights = torch.tensor(class_weights,dtype=torch.float)\n",
    "class_weights"
   ]
  },
  {
   "cell_type": "code",
   "execution_count": 67,
   "metadata": {},
   "outputs": [],
   "source": [
    "train_ds = customDataset(X_train, y_train)\n",
    "valid_ds = customDataset(X_valid, y_valid)"
   ]
  },
  {
   "cell_type": "code",
   "execution_count": 68,
   "metadata": {},
   "outputs": [],
   "source": [
    "batch_size = 30\n",
    "vocab_size = len(words)\n",
    "train_dl = DataLoader(train_ds, batch_size=batch_size, drop_last= True, shuffle = True)\n",
    "val_dl = DataLoader(valid_ds, batch_size=batch_size , drop_last= True, shuffle = True)"
   ]
  },
  {
   "cell_type": "code",
   "execution_count": 69,
   "metadata": {},
   "outputs": [],
   "source": [
    "model = AttentionModel(\n",
    "                    batch_size=batch_size, \n",
    "                    output_size=class_weights.shape[0], \n",
    "                    hidden_size=128, \n",
    "                    vocab_size=vocab_size, \n",
    "                    embedding_length=400\n",
    "                    )"
   ]
  },
  {
   "cell_type": "code",
   "execution_count": 70,
   "metadata": {},
   "outputs": [
    {
     "data": {
      "text/plain": [
       "AttentionModel(\n",
       "  (word_embeddings): Embedding(1310, 400)\n",
       "  (lstm): LSTM(400, 128)\n",
       "  (label): Linear(in_features=128, out_features=7, bias=True)\n",
       ")"
      ]
     },
     "execution_count": 70,
     "metadata": {},
     "output_type": "execute_result"
    }
   ],
   "source": [
    "model = model.train()\n",
    "model.cpu()"
   ]
  },
  {
   "cell_type": "code",
   "execution_count": 71,
   "metadata": {},
   "outputs": [],
   "source": [
    "optimizer = torch.optim.Adam(model.parameters(), lr=1e-3)\n",
    "criterion = nn.CrossEntropyLoss(weight = class_weights)\n",
    "exp_lr_scheduler = lr_scheduler.StepLR(optimizer, step_size=5, gamma=0.8)"
   ]
  },
  {
   "cell_type": "code",
   "execution_count": 72,
   "metadata": {},
   "outputs": [],
   "source": [
    "# CUDA\n",
    "device = torch.device('cuda' if torch.cuda.is_available() else 'cpu')"
   ]
  },
  {
   "cell_type": "code",
   "execution_count": 73,
   "metadata": {},
   "outputs": [
    {
     "name": "stderr",
     "output_type": "stream",
     "text": [
      "  0%|          | 0/20 [00:00<?, ?it/s]"
     ]
    },
    {
     "name": "stdout",
     "output_type": "stream",
     "text": [
      "Epoch: 0\n"
     ]
    },
    {
     "name": "stderr",
     "output_type": "stream",
     "text": [
      "Epoch 0: 62it [00:02, 29.59it/s]\n",
      "  5%|▌         | 1/20 [00:02<00:40,  2.14s/it]"
     ]
    },
    {
     "name": "stdout",
     "output_type": "stream",
     "text": [
      "Loss at epoch 0 was 1.52357\n",
      "Saving checkpoint\n",
      "Saving checkpoint\n",
      "Epoch: 1\n"
     ]
    },
    {
     "name": "stderr",
     "output_type": "stream",
     "text": [
      "Epoch 1: 62it [00:02, 26.75it/s]\n",
      " 10%|█         | 2/20 [00:04<00:41,  2.30s/it]"
     ]
    },
    {
     "name": "stdout",
     "output_type": "stream",
     "text": [
      "Loss at epoch 1 was 0.74815\n",
      "Saving checkpoint\n",
      "Saving checkpoint\n",
      "Epoch: 2\n"
     ]
    },
    {
     "name": "stderr",
     "output_type": "stream",
     "text": [
      "Epoch 2: 62it [00:02, 27.13it/s]\n",
      " 15%|█▌        | 3/20 [00:06<00:39,  2.33s/it]"
     ]
    },
    {
     "name": "stdout",
     "output_type": "stream",
     "text": [
      "Loss at epoch 2 was 0.51331\n",
      "Saving checkpoint\n",
      "Saving checkpoint\n",
      "Epoch: 3\n"
     ]
    },
    {
     "name": "stderr",
     "output_type": "stream",
     "text": [
      "Epoch 3: 62it [00:02, 27.93it/s]\n",
      " 20%|██        | 4/20 [00:09<00:37,  2.31s/it]"
     ]
    },
    {
     "name": "stdout",
     "output_type": "stream",
     "text": [
      "Loss at epoch 3 was 0.26689\n",
      "Saving checkpoint\n",
      "Saving checkpoint\n",
      "Epoch: 4\n"
     ]
    },
    {
     "name": "stderr",
     "output_type": "stream",
     "text": [
      "Epoch 4: 62it [00:02, 24.13it/s]\n",
      " 25%|██▌       | 5/20 [00:11<00:36,  2.44s/it]"
     ]
    },
    {
     "name": "stdout",
     "output_type": "stream",
     "text": [
      "Loss at epoch 4 was 0.22425\n",
      "Saving checkpoint\n",
      "Saving checkpoint\n",
      "Epoch: 5\n"
     ]
    },
    {
     "name": "stderr",
     "output_type": "stream",
     "text": [
      "Epoch 5: 62it [00:02, 24.92it/s]\n",
      " 30%|███       | 6/20 [00:14<00:34,  2.49s/it]"
     ]
    },
    {
     "name": "stdout",
     "output_type": "stream",
     "text": [
      "Loss at epoch 5 was 0.06144\n",
      "Saving checkpoint\n",
      "Saving checkpoint\n",
      "Epoch: 6\n"
     ]
    },
    {
     "name": "stderr",
     "output_type": "stream",
     "text": [
      "Epoch 6: 62it [00:02, 24.43it/s]\n",
      " 35%|███▌      | 7/20 [00:17<00:32,  2.53s/it]"
     ]
    },
    {
     "name": "stdout",
     "output_type": "stream",
     "text": [
      "Loss at epoch 6 was 0.02017\n",
      "Saving checkpoint\n",
      "Saving checkpoint\n",
      "Epoch: 7\n"
     ]
    },
    {
     "name": "stderr",
     "output_type": "stream",
     "text": [
      "Epoch 7: 62it [00:02, 25.82it/s]\n",
      " 40%|████      | 8/20 [00:19<00:30,  2.51s/it]"
     ]
    },
    {
     "name": "stdout",
     "output_type": "stream",
     "text": [
      "Loss at epoch 7 was 0.06983\n",
      "Saving checkpoint\n",
      "Epoch: 8\n"
     ]
    },
    {
     "name": "stderr",
     "output_type": "stream",
     "text": [
      "Epoch 8: 62it [00:02, 24.55it/s]\n",
      " 45%|████▌     | 9/20 [00:22<00:27,  2.53s/it]"
     ]
    },
    {
     "name": "stdout",
     "output_type": "stream",
     "text": [
      "Loss at epoch 8 was 0.03170\n",
      "Saving checkpoint\n",
      "Epoch: 9\n"
     ]
    },
    {
     "name": "stderr",
     "output_type": "stream",
     "text": [
      "Epoch 9: 62it [00:02, 23.66it/s]\n",
      " 50%|█████     | 10/20 [00:24<00:25,  2.57s/it]"
     ]
    },
    {
     "name": "stdout",
     "output_type": "stream",
     "text": [
      "Loss at epoch 9 was 0.08079\n",
      "Saving checkpoint\n",
      "Epoch: 10\n"
     ]
    },
    {
     "name": "stderr",
     "output_type": "stream",
     "text": [
      "Epoch 10: 62it [00:02, 22.57it/s]\n",
      " 55%|█████▌    | 11/20 [00:27<00:23,  2.64s/it]"
     ]
    },
    {
     "name": "stdout",
     "output_type": "stream",
     "text": [
      "Loss at epoch 10 was 0.02492\n",
      "Saving checkpoint\n",
      "Epoch: 11\n"
     ]
    },
    {
     "name": "stderr",
     "output_type": "stream",
     "text": [
      "Epoch 11: 62it [00:02, 22.63it/s]\n",
      " 60%|██████    | 12/20 [00:30<00:21,  2.71s/it]"
     ]
    },
    {
     "name": "stdout",
     "output_type": "stream",
     "text": [
      "Loss at epoch 11 was 0.00518\n",
      "Saving checkpoint\n",
      "Saving checkpoint\n",
      "Epoch: 12\n"
     ]
    },
    {
     "name": "stderr",
     "output_type": "stream",
     "text": [
      "Epoch 12: 62it [00:02, 21.50it/s]\n",
      " 65%|██████▌   | 13/20 [00:33<00:19,  2.78s/it]"
     ]
    },
    {
     "name": "stdout",
     "output_type": "stream",
     "text": [
      "Loss at epoch 12 was 0.00951\n",
      "Saving checkpoint\n",
      "Epoch: 13\n"
     ]
    },
    {
     "name": "stderr",
     "output_type": "stream",
     "text": [
      "Epoch 13: 62it [00:03, 20.53it/s]\n",
      " 70%|███████   | 14/20 [00:36<00:17,  2.87s/it]"
     ]
    },
    {
     "name": "stdout",
     "output_type": "stream",
     "text": [
      "Loss at epoch 13 was 0.00845\n",
      "Saving checkpoint\n",
      "Epoch: 14\n"
     ]
    },
    {
     "name": "stderr",
     "output_type": "stream",
     "text": [
      "Epoch 14: 62it [00:02, 22.56it/s]\n",
      " 75%|███████▌  | 15/20 [00:39<00:14,  2.85s/it]"
     ]
    },
    {
     "name": "stdout",
     "output_type": "stream",
     "text": [
      "Loss at epoch 14 was 0.00576\n",
      "Saving checkpoint\n",
      "Epoch: 15\n"
     ]
    },
    {
     "name": "stderr",
     "output_type": "stream",
     "text": [
      "Epoch 15: 62it [00:02, 25.05it/s]\n",
      " 80%|████████  | 16/20 [00:41<00:11,  2.76s/it]"
     ]
    },
    {
     "name": "stdout",
     "output_type": "stream",
     "text": [
      "Loss at epoch 15 was 0.01400\n",
      "Saving checkpoint\n",
      "Epoch: 16\n"
     ]
    },
    {
     "name": "stderr",
     "output_type": "stream",
     "text": [
      "Epoch 16: 62it [00:02, 22.97it/s]\n",
      " 85%|████████▌ | 17/20 [00:44<00:08,  2.76s/it]"
     ]
    },
    {
     "name": "stdout",
     "output_type": "stream",
     "text": [
      "Loss at epoch 16 was 0.00682\n",
      "Saving checkpoint\n",
      "Epoch: 17\n"
     ]
    },
    {
     "name": "stderr",
     "output_type": "stream",
     "text": [
      "Epoch 17: 62it [00:03, 20.24it/s]\n",
      " 90%|█████████ | 18/20 [00:47<00:05,  2.88s/it]"
     ]
    },
    {
     "name": "stdout",
     "output_type": "stream",
     "text": [
      "Loss at epoch 17 was 0.00381\n",
      "Saving checkpoint\n",
      "Saving checkpoint\n",
      "Epoch: 18\n"
     ]
    },
    {
     "name": "stderr",
     "output_type": "stream",
     "text": [
      "Epoch 18: 62it [00:02, 23.09it/s]\n",
      " 95%|█████████▌| 19/20 [00:50<00:02,  2.84s/it]"
     ]
    },
    {
     "name": "stdout",
     "output_type": "stream",
     "text": [
      "Loss at epoch 18 was 0.02561\n",
      "Saving checkpoint\n",
      "Epoch: 19\n"
     ]
    },
    {
     "name": "stderr",
     "output_type": "stream",
     "text": [
      "Epoch 19: 62it [00:02, 22.29it/s]\n",
      "100%|██████████| 20/20 [00:53<00:00,  2.67s/it]\n"
     ]
    },
    {
     "name": "stdout",
     "output_type": "stream",
     "text": [
      "Loss at epoch 19 was 0.04759\n",
      "Saving checkpoint\n",
      "Train accuracy:\n"
     ]
    },
    {
     "name": "stderr",
     "output_type": "stream",
     "text": [
      "100%|██████████| 62/62 [00:00<00:00, 115.86it/s]\n"
     ]
    },
    {
     "name": "stdout",
     "output_type": "stream",
     "text": [
      "Got 1854 / 1860 with accuracy 99.68 %\n",
      "Test accuaracy:\n"
     ]
    },
    {
     "name": "stderr",
     "output_type": "stream",
     "text": [
      "100%|██████████| 15/15 [00:00<00:00, 106.44it/s]"
     ]
    },
    {
     "name": "stdout",
     "output_type": "stream",
     "text": [
      "Got 360 / 450 with accuracy 80.00 %\n"
     ]
    },
    {
     "name": "stderr",
     "output_type": "stream",
     "text": [
      "\n"
     ]
    }
   ],
   "source": [
    "min_loss = float('inf')\n",
    "\n",
    "def save_checkpoint(state, filename= 'checkpoint.pth.tar'):\n",
    "    print('Saving checkpoint')\n",
    "    torch.save(state, filename)\n",
    "\n",
    "num_epochs = 20\n",
    "for epoch in tqdm(range(num_epochs)):\n",
    "    losses = []\n",
    "\n",
    "    print(f'Epoch: {epoch}')\n",
    "\n",
    "    for batch_idx, (data, labels) in tqdm(enumerate(train_dl), desc=f'Epoch {epoch}'):\n",
    "        data = data.long()\n",
    "        labels = labels.type(torch.int64)\n",
    "\n",
    "        # forward\n",
    "        preds = model(data)\n",
    "        loss = criterion(preds, labels)\n",
    "\n",
    "        losses.append(loss.item())\n",
    "\n",
    "        # backward\n",
    "        optimizer.zero_grad()\n",
    "        loss.backward()\n",
    "\n",
    "        # gradient descent or adam step\n",
    "        optimizer.step()\n",
    "    \n",
    "    print(f'Loss at epoch %d was %.5f' % (epoch, losses[-1]))\n",
    "\n",
    "    checkpoint = {'model': model , 'state_dict': model.state_dict(), 'optimizer': optimizer.state_dict()}\n",
    "    save_checkpoint(checkpoint, filename = os.path.join(model_path,'last.pth'))\n",
    "\n",
    "    if losses[-1] < min_loss:\n",
    "      min_loss = losses[-1]\n",
    "      checkpoint = {'model': model ,'state_dict': model.state_dict(), 'optimizer': optimizer.state_dict()}\n",
    "      save_checkpoint(checkpoint, filename= os.path.join(model_path,'best.pth'))\n",
    "\n",
    "def check_accuracy(loader, model):\n",
    "    num_correct = 0\n",
    "    num_samples = 0\n",
    "    model.eval()\n",
    "\n",
    "    with torch.no_grad():\n",
    "        for x, y in tqdm(loader):\n",
    "            x = x.long()\n",
    "            y = y.type(torch.int64)\n",
    "\n",
    "            preds = model(x)\n",
    "            _, predictions = preds.max(1)\n",
    "            num_correct += (predictions == y).sum()\n",
    "            num_samples += predictions.size(0)\n",
    "\n",
    "        print(f'Got {num_correct} / {num_samples} with accuracy {float(num_correct) / float(num_samples) * 100:.2f} %')\n",
    "\n",
    "    model.train()\n",
    "\n",
    "\n",
    "print('Train accuracy:')\n",
    "check_accuracy(train_dl, model)\n",
    "print('Test accuaracy:')\n",
    "check_accuracy(val_dl, model)"
   ]
  },
  {
   "cell_type": "code",
   "execution_count": 74,
   "metadata": {},
   "outputs": [
    {
     "name": "stdout",
     "output_type": "stream",
     "text": [
      "-------------------------------------------------------------------------------------------------\n",
      "      Layer (type)                                   Input Shape         Param #     Tr. Param #\n",
      "=================================================================================================\n",
      "       Embedding-1                                      [30, 22]         524,000         524,000\n",
      "            LSTM-2     [22, 30, 400], [1, 30, 128], [1, 30, 128]         271,360         271,360\n",
      "          Linear-3                                     [30, 128]             903             903\n",
      "=================================================================================================\n",
      "Total params: 796,263\n",
      "Trainable params: 796,263\n",
      "Non-trainable params: 0\n",
      "-------------------------------------------------------------------------------------------------\n"
     ]
    }
   ],
   "source": [
    "from pytorch_model_summary import summary\n",
    "print(summary(model, torch.zeros([30,22]).long(), show_input=True))"
   ]
  },
  {
   "cell_type": "markdown",
   "metadata": {},
   "source": [
    "# Test"
   ]
  },
  {
   "cell_type": "code",
   "execution_count": 75,
   "metadata": {},
   "outputs": [],
   "source": [
    "# vocab2index"
   ]
  },
  {
   "cell_type": "code",
   "execution_count": 76,
   "metadata": {},
   "outputs": [],
   "source": [
    "torch.save(vocab2index,os.path.join(model_path,'vocab_12jul.pth'))"
   ]
  },
  {
   "cell_type": "code",
   "execution_count": 77,
   "metadata": {},
   "outputs": [],
   "source": [
    "vocab2index = torch.load(os.path.join(model_path,'vocab_12jul.pth'))"
   ]
  },
  {
   "cell_type": "code",
   "execution_count": 78,
   "metadata": {},
   "outputs": [
    {
     "data": {
      "text/plain": [
       "15"
      ]
     },
     "execution_count": 78,
     "metadata": {},
     "output_type": "execute_result"
    }
   ],
   "source": [
    "N"
   ]
  },
  {
   "cell_type": "code",
   "execution_count": 79,
   "metadata": {},
   "outputs": [],
   "source": [
    "pad_enc = torch.zeros([29,15])\n",
    "# pad_enc.shape"
   ]
  },
  {
   "cell_type": "code",
   "execution_count": 80,
   "metadata": {
    "scrolled": true
   },
   "outputs": [
    {
     "data": {
      "text/plain": [
       "tensor([[  16.,   17.,   18.,    7.,   21.,  855., 1104.,   28.,  628.,   44.,\n",
       "           15.,    0.,    0.,    0.,    0.]])"
      ]
     },
     "execution_count": 80,
     "metadata": {},
     "output_type": "execute_result"
    }
   ],
   "source": [
    "test_sent = 'ad cho em hỏi ngành điện tử viễn thông có ổn không ạ'\n",
    "test_enc =  torch.from_numpy(encode_sentence(test_sent, vocab2index, N)[0].astype(np.float32))\n",
    "test_enc = torch.reshape(test_enc,(1,N))\n",
    "test_enc"
   ]
  },
  {
   "cell_type": "code",
   "execution_count": 81,
   "metadata": {},
   "outputs": [
    {
     "data": {
      "text/plain": [
       "torch.Size([30, 15])"
      ]
     },
     "execution_count": 81,
     "metadata": {},
     "output_type": "execute_result"
    }
   ],
   "source": [
    "test_enc_pad = torch.cat([test_enc,pad_enc])\n",
    "test_enc_pad.shape"
   ]
  },
  {
   "cell_type": "code",
   "execution_count": 82,
   "metadata": {
    "scrolled": true
   },
   "outputs": [
    {
     "name": "stdout",
     "output_type": "stream",
     "text": [
      "tensor([3.8830e-06, 8.3030e-06, 1.4212e-03, 1.9437e-05, 9.9846e-01, 6.0418e-05,\n",
      "        2.2763e-05], grad_fn=<SelectBackward0>)\n"
     ]
    },
    {
     "data": {
      "text/plain": [
       "4"
      ]
     },
     "execution_count": 82,
     "metadata": {},
     "output_type": "execute_result"
    }
   ],
   "source": [
    "\n",
    "preds = model(test_enc_pad.long())\n",
    "prop_preds = nn.functional.softmax(preds,dim=1)\n",
    "print(prop_preds[0])\n",
    "pred_label = prop_preds.argmax().item()\n",
    "pred_label"
   ]
  },
  {
   "cell_type": "code",
   "execution_count": null,
   "metadata": {},
   "outputs": [],
   "source": []
  }
 ],
 "metadata": {
  "kernelspec": {
   "display_name": "Python 3 (ipykernel)",
   "language": "python",
   "name": "python3"
  },
  "language_info": {
   "codemirror_mode": {
    "name": "ipython",
    "version": 3
   },
   "file_extension": ".py",
   "mimetype": "text/x-python",
   "name": "python",
   "nbconvert_exporter": "python",
   "pygments_lexer": "ipython3",
   "version": "3.9.15 (main, Nov  4 2022, 16:13:54) \n[GCC 11.2.0]"
  },
  "vscode": {
   "interpreter": {
    "hash": "cf70ece395e199f89374fc996f34e2bb2a32423abea541383f83a2e4df23b0ce"
   }
  }
 },
 "nbformat": 4,
 "nbformat_minor": 4
}
